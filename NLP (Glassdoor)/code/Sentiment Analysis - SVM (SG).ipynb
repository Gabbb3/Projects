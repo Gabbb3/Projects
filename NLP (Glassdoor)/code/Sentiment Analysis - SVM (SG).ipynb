{
 "cells": [
  {
   "cell_type": "code",
   "execution_count": 17,
   "metadata": {},
   "outputs": [],
   "source": [
    "import pandas as pd \n",
    "import matplotlib.pyplot as plt\n",
    "#import seaborn as sns\n",
    "import numpy as np\n",
    "#from sklearn.model_selection import train_test_split\n",
    "import datetime \n",
    "import datetime as dt\n",
    "import nltk\n",
    "from nltk.corpus import stopwords\n",
    "from nltk.tokenize import RegexpTokenizer\n",
    "from nltk.stem import WordNetLemmatizer\n",
    "from nltk.stem.porter import PorterStemmer\n",
    "from nltk.corpus import wordnet\n",
    "#import gensim\n",
    "# nltk.download('stopwords')\n",
    "#import re\n",
    "#from gensim import models, corpora\n",
    "import string\n",
    "\n",
    "######################### Working directory #########################\n",
    "import os\n",
    "os.getcwd()\n",
    "os.chdir(\"C:\\\\Users\\\\lzhga\\\\Documents\\\\Text Mining Project\")"
   ]
  },
  {
   "cell_type": "code",
   "execution_count": 52,
   "metadata": {},
   "outputs": [],
   "source": [
    "# For sentiment analysis, we use a bigger dataset containing reviews from other countries as well.\n",
    "df = pd.read_csv(\"reviews_final_modelled.csv\")"
   ]
  },
  {
   "cell_type": "code",
   "execution_count": 18,
   "metadata": {},
   "outputs": [],
   "source": [
    "# # Preprocessing\n",
    "# def remove_punctuation(text):\n",
    "#     no_punct = \"\".join([c for c in text if c not in string.punctuation])\n",
    "#     return no_punct\n",
    "\n",
    "# stopwords = nltk.corpus.stopwords.words('english')\n",
    "# newStopWords = ['work','working','company']\n",
    "# stopwords.extend(newStopWords)\n",
    "# operators = set(('no', 'not', 'never'))\n",
    "# stopwords = set(stopwords) - operators\n",
    "\n",
    "# def preprocess(sentence):\n",
    "#     sentence = sentence.lower()\n",
    "#     tokenizer = RegexpTokenizer(r'\\w+')\n",
    "#     tokens = tokenizer.tokenize(sentence)\n",
    "#     filtered_words = [w for w in tokens if not w in stopwords]\n",
    "#     return \" \".join(filtered_words)\n",
    "\n",
    "# # Lemmatizer\n",
    "# w_tokenizer = nltk.tokenize.WhitespaceTokenizer()\n",
    "# lemmatizer = nltk.stem.WordNetLemmatizer()\n",
    "\n",
    "# # Functions for lemmatizing with the appropriate POS-tag\n",
    "# def get_wordnet_pos(word):\n",
    "#     \"\"\"Map POS tag to first character lemmatize() accepts\"\"\"\n",
    "#     tag = nltk.pos_tag([word])[0][1][0].upper()\n",
    "#     tag_dict = {\"J\": wordnet.ADJ,\n",
    "#                 \"N\": wordnet.NOUN,\n",
    "#                 \"V\": wordnet.VERB,\n",
    "#                 \"R\": wordnet.ADV}\n",
    "\n",
    "#     return tag_dict.get(tag, wordnet.NOUN)\n",
    "\n",
    "# def lemmatize_text(text):\n",
    "#     return [lemmatizer.lemmatize(w, get_wordnet_pos(w)) for w in nltk.word_tokenize(text)]\n",
    "\n",
    "# df['cleaned_review'] = df['overall_review'].apply(remove_punctuation)\n",
    "# df['cleaned_review'] = df['cleaned_review'].apply(preprocess)\n",
    "# df['cleaned_review'] = df['cleaned_review'].apply(lemmatize_text)"
   ]
  },
  {
   "cell_type": "code",
   "execution_count": 53,
   "metadata": {},
   "outputs": [
    {
     "data": {
      "text/html": [
       "<div>\n",
       "<style scoped>\n",
       "    .dataframe tbody tr th:only-of-type {\n",
       "        vertical-align: middle;\n",
       "    }\n",
       "\n",
       "    .dataframe tbody tr th {\n",
       "        vertical-align: top;\n",
       "    }\n",
       "\n",
       "    .dataframe thead th {\n",
       "        text-align: right;\n",
       "    }\n",
       "</style>\n",
       "<table border=\"1\" class=\"dataframe\">\n",
       "  <thead>\n",
       "    <tr style=\"text-align: right;\">\n",
       "      <th></th>\n",
       "      <th>id</th>\n",
       "      <th>reviews.val.date</th>\n",
       "      <th>overall_review</th>\n",
       "      <th>Location</th>\n",
       "      <th>Title</th>\n",
       "      <th>overall_rating</th>\n",
       "      <th>careerOpportunities_rating</th>\n",
       "      <th>compBenefits_rating</th>\n",
       "      <th>cultureValues_rating</th>\n",
       "      <th>seniorManagement_rating</th>\n",
       "      <th>worklifeBalance_rating</th>\n",
       "      <th>overview.industry</th>\n",
       "      <th>header.employerName</th>\n",
       "      <th>cleaned_review</th>\n",
       "      <th>cleaned_review2</th>\n",
       "      <th>pred_topic</th>\n",
       "    </tr>\n",
       "  </thead>\n",
       "  <tbody>\n",
       "    <tr>\n",
       "      <th>0</th>\n",
       "      <td>44024</td>\n",
       "      <td>2020-01-01</td>\n",
       "      <td>Good benefits and flexible hours Micromanageme...</td>\n",
       "      <td>Singapore (Singapore)</td>\n",
       "      <td>Consultant</td>\n",
       "      <td>3.0</td>\n",
       "      <td>3.0</td>\n",
       "      <td>3.0</td>\n",
       "      <td>3.0</td>\n",
       "      <td>3.0</td>\n",
       "      <td>4.0</td>\n",
       "      <td>Government Agencies</td>\n",
       "      <td>GovTech</td>\n",
       "      <td>['good', 'benefit', 'flexible', 'hour', 'micro...</td>\n",
       "      <td>['benefit', 'flexible', 'hour', 'micromanageme...</td>\n",
       "      <td>Benefits/Renumeration</td>\n",
       "    </tr>\n",
       "    <tr>\n",
       "      <th>1</th>\n",
       "      <td>44024</td>\n",
       "      <td>2020-01-01</td>\n",
       "      <td>Good culture, advanced skillsets to learn from...</td>\n",
       "      <td>Singapore (Singapore)</td>\n",
       "      <td>Intern</td>\n",
       "      <td>5.0</td>\n",
       "      <td>4.0</td>\n",
       "      <td>3.0</td>\n",
       "      <td>5.0</td>\n",
       "      <td>4.0</td>\n",
       "      <td>4.0</td>\n",
       "      <td>Government Agencies</td>\n",
       "      <td>GovTech</td>\n",
       "      <td>['good', 'culture', 'advanced', 'skillsets', '...</td>\n",
       "      <td>['culture', 'advanced', 'skillsets', 'learn', ...</td>\n",
       "      <td>Management</td>\n",
       "    </tr>\n",
       "    <tr>\n",
       "      <th>2</th>\n",
       "      <td>44024</td>\n",
       "      <td>2020-01-01</td>\n",
       "      <td>- Clean and bright offices \\r\\n- Friendly &amp;amp...</td>\n",
       "      <td>Singapore (Singapore)</td>\n",
       "      <td>Intern</td>\n",
       "      <td>4.0</td>\n",
       "      <td>4.0</td>\n",
       "      <td>4.0</td>\n",
       "      <td>5.0</td>\n",
       "      <td>4.0</td>\n",
       "      <td>5.0</td>\n",
       "      <td>Government Agencies</td>\n",
       "      <td>GovTech</td>\n",
       "      <td>['clean', 'bright', 'office', 'friendly', 'amp...</td>\n",
       "      <td>['clean', 'bright', 'office', 'friendly', 'amp...</td>\n",
       "      <td>Culture/Team</td>\n",
       "    </tr>\n",
       "    <tr>\n",
       "      <th>3</th>\n",
       "      <td>44024</td>\n",
       "      <td>2019-09-21</td>\n",
       "      <td>there are many training program No management ...</td>\n",
       "      <td>Singapore (Singapore)</td>\n",
       "      <td>Senior Manager</td>\n",
       "      <td>1.0</td>\n",
       "      <td>2.0</td>\n",
       "      <td>4.0</td>\n",
       "      <td>1.0</td>\n",
       "      <td>1.0</td>\n",
       "      <td>3.0</td>\n",
       "      <td>Government Agencies</td>\n",
       "      <td>GovTech</td>\n",
       "      <td>['many', 'training', 'program', 'no', 'managem...</td>\n",
       "      <td>['many', 'training', 'program', 'management', ...</td>\n",
       "      <td>Management</td>\n",
       "    </tr>\n",
       "    <tr>\n",
       "      <th>4</th>\n",
       "      <td>44054</td>\n",
       "      <td>2019-09-11</td>\n",
       "      <td>no OT (work-life balance), just enough workloa...</td>\n",
       "      <td>Singapore (Singapore)</td>\n",
       "      <td>IT Business Analyst</td>\n",
       "      <td>4.0</td>\n",
       "      <td>4.0</td>\n",
       "      <td>4.0</td>\n",
       "      <td>4.0</td>\n",
       "      <td>3.0</td>\n",
       "      <td>5.0</td>\n",
       "      <td>Healthcare Product Manufacturing</td>\n",
       "      <td>Essilor</td>\n",
       "      <td>['no', 'ot', 'worklife', 'balance', 'enough', ...</td>\n",
       "      <td>['ot', 'worklife', 'balance', 'enough', 'workl...</td>\n",
       "      <td>Benefits/Renumeration</td>\n",
       "    </tr>\n",
       "    <tr>\n",
       "      <th>...</th>\n",
       "      <td>...</td>\n",
       "      <td>...</td>\n",
       "      <td>...</td>\n",
       "      <td>...</td>\n",
       "      <td>...</td>\n",
       "      <td>...</td>\n",
       "      <td>...</td>\n",
       "      <td>...</td>\n",
       "      <td>...</td>\n",
       "      <td>...</td>\n",
       "      <td>...</td>\n",
       "      <td>...</td>\n",
       "      <td>...</td>\n",
       "      <td>...</td>\n",
       "      <td>...</td>\n",
       "      <td>...</td>\n",
       "    </tr>\n",
       "    <tr>\n",
       "      <th>11737</th>\n",
       "      <td>116735</td>\n",
       "      <td>2019-06-10</td>\n",
       "      <td>Extremely friendly people, the office team is ...</td>\n",
       "      <td>Singapore (Singapore)</td>\n",
       "      <td>Full Stack Software Engineer</td>\n",
       "      <td>2.0</td>\n",
       "      <td>2.0</td>\n",
       "      <td>1.0</td>\n",
       "      <td>1.0</td>\n",
       "      <td>2.0</td>\n",
       "      <td>4.0</td>\n",
       "      <td>Unknown</td>\n",
       "      <td>Fen Associates</td>\n",
       "      <td>['extremely', 'friendly', 'people', 'office', ...</td>\n",
       "      <td>['extremely', 'friendly', 'people', 'office', ...</td>\n",
       "      <td>Management</td>\n",
       "    </tr>\n",
       "    <tr>\n",
       "      <th>11738</th>\n",
       "      <td>116735</td>\n",
       "      <td>2019-04-19</td>\n",
       "      <td>Many nice people to start off! There is a lot ...</td>\n",
       "      <td>Singapore (Singapore)</td>\n",
       "      <td>Operations</td>\n",
       "      <td>2.0</td>\n",
       "      <td>4.0</td>\n",
       "      <td>4.0</td>\n",
       "      <td>1.0</td>\n",
       "      <td>1.0</td>\n",
       "      <td>4.0</td>\n",
       "      <td>Unknown</td>\n",
       "      <td>Fen Associates</td>\n",
       "      <td>['many', 'nice', 'people', 'start', 'lot', 'op...</td>\n",
       "      <td>['many', 'nice', 'people', 'start', 'lot', 'op...</td>\n",
       "      <td>Benefits/Renumeration</td>\n",
       "    </tr>\n",
       "    <tr>\n",
       "      <th>11739</th>\n",
       "      <td>116735</td>\n",
       "      <td>2019-04-15</td>\n",
       "      <td>TransferWise has really cool working culture. ...</td>\n",
       "      <td>Singapore (Singapore)</td>\n",
       "      <td>Senior Software Engineer</td>\n",
       "      <td>4.0</td>\n",
       "      <td>5.0</td>\n",
       "      <td>4.0</td>\n",
       "      <td>5.0</td>\n",
       "      <td>4.0</td>\n",
       "      <td>5.0</td>\n",
       "      <td>Unknown</td>\n",
       "      <td>Fen Associates</td>\n",
       "      <td>['transferwise', 'really', 'cool', 'culture', ...</td>\n",
       "      <td>['transferwise', 'really', 'cool', 'culture', ...</td>\n",
       "      <td>Management</td>\n",
       "    </tr>\n",
       "    <tr>\n",
       "      <th>11740</th>\n",
       "      <td>116758</td>\n",
       "      <td>2020-01-01</td>\n",
       "      <td>Great people with lot of knowledge Very much a...</td>\n",
       "      <td>Singapore (Singapore)</td>\n",
       "      <td>Staff Software Engineer</td>\n",
       "      <td>4.0</td>\n",
       "      <td>5.0</td>\n",
       "      <td>4.0</td>\n",
       "      <td>5.0</td>\n",
       "      <td>4.0</td>\n",
       "      <td>4.0</td>\n",
       "      <td>IT Services</td>\n",
       "      <td>Devoteam</td>\n",
       "      <td>['great', 'people', 'lot', 'knowledge', 'much'...</td>\n",
       "      <td>['people', 'lot', 'knowledge', 'much', 'agile'...</td>\n",
       "      <td>Benefits/Renumeration</td>\n",
       "    </tr>\n",
       "    <tr>\n",
       "      <th>11741</th>\n",
       "      <td>116758</td>\n",
       "      <td>2020-01-01</td>\n",
       "      <td>Very open staff that are very willing to help ...</td>\n",
       "      <td>Singapore (Singapore)</td>\n",
       "      <td>Intern</td>\n",
       "      <td>5.0</td>\n",
       "      <td>4.0</td>\n",
       "      <td>2.0</td>\n",
       "      <td>4.0</td>\n",
       "      <td>4.0</td>\n",
       "      <td>5.0</td>\n",
       "      <td>IT Services</td>\n",
       "      <td>Devoteam</td>\n",
       "      <td>['open', 'staff', 'willing', 'help', 'not', 't...</td>\n",
       "      <td>['open', 'staff', 'willing', 'help', 'think', ...</td>\n",
       "      <td>Culture/Team</td>\n",
       "    </tr>\n",
       "  </tbody>\n",
       "</table>\n",
       "<p>11742 rows × 16 columns</p>\n",
       "</div>"
      ],
      "text/plain": [
       "           id reviews.val.date  \\\n",
       "0       44024       2020-01-01   \n",
       "1       44024       2020-01-01   \n",
       "2       44024       2020-01-01   \n",
       "3       44024       2019-09-21   \n",
       "4       44054       2019-09-11   \n",
       "...       ...              ...   \n",
       "11737  116735       2019-06-10   \n",
       "11738  116735       2019-04-19   \n",
       "11739  116735       2019-04-15   \n",
       "11740  116758       2020-01-01   \n",
       "11741  116758       2020-01-01   \n",
       "\n",
       "                                          overall_review  \\\n",
       "0      Good benefits and flexible hours Micromanageme...   \n",
       "1      Good culture, advanced skillsets to learn from...   \n",
       "2      - Clean and bright offices \\r\\n- Friendly &amp...   \n",
       "3      there are many training program No management ...   \n",
       "4      no OT (work-life balance), just enough workloa...   \n",
       "...                                                  ...   \n",
       "11737  Extremely friendly people, the office team is ...   \n",
       "11738  Many nice people to start off! There is a lot ...   \n",
       "11739  TransferWise has really cool working culture. ...   \n",
       "11740  Great people with lot of knowledge Very much a...   \n",
       "11741  Very open staff that are very willing to help ...   \n",
       "\n",
       "                    Location                         Title  overall_rating  \\\n",
       "0      Singapore (Singapore)                    Consultant             3.0   \n",
       "1      Singapore (Singapore)                        Intern             5.0   \n",
       "2      Singapore (Singapore)                        Intern             4.0   \n",
       "3      Singapore (Singapore)                Senior Manager             1.0   \n",
       "4      Singapore (Singapore)           IT Business Analyst             4.0   \n",
       "...                      ...                           ...             ...   \n",
       "11737  Singapore (Singapore)  Full Stack Software Engineer             2.0   \n",
       "11738  Singapore (Singapore)                    Operations             2.0   \n",
       "11739  Singapore (Singapore)      Senior Software Engineer             4.0   \n",
       "11740  Singapore (Singapore)       Staff Software Engineer             4.0   \n",
       "11741  Singapore (Singapore)                        Intern             5.0   \n",
       "\n",
       "       careerOpportunities_rating  compBenefits_rating  cultureValues_rating  \\\n",
       "0                             3.0                  3.0                   3.0   \n",
       "1                             4.0                  3.0                   5.0   \n",
       "2                             4.0                  4.0                   5.0   \n",
       "3                             2.0                  4.0                   1.0   \n",
       "4                             4.0                  4.0                   4.0   \n",
       "...                           ...                  ...                   ...   \n",
       "11737                         2.0                  1.0                   1.0   \n",
       "11738                         4.0                  4.0                   1.0   \n",
       "11739                         5.0                  4.0                   5.0   \n",
       "11740                         5.0                  4.0                   5.0   \n",
       "11741                         4.0                  2.0                   4.0   \n",
       "\n",
       "       seniorManagement_rating  worklifeBalance_rating  \\\n",
       "0                          3.0                     4.0   \n",
       "1                          4.0                     4.0   \n",
       "2                          4.0                     5.0   \n",
       "3                          1.0                     3.0   \n",
       "4                          3.0                     5.0   \n",
       "...                        ...                     ...   \n",
       "11737                      2.0                     4.0   \n",
       "11738                      1.0                     4.0   \n",
       "11739                      4.0                     5.0   \n",
       "11740                      4.0                     4.0   \n",
       "11741                      4.0                     5.0   \n",
       "\n",
       "                      overview.industry header.employerName  \\\n",
       "0                   Government Agencies             GovTech   \n",
       "1                   Government Agencies             GovTech   \n",
       "2                   Government Agencies             GovTech   \n",
       "3                   Government Agencies             GovTech   \n",
       "4      Healthcare Product Manufacturing             Essilor   \n",
       "...                                 ...                 ...   \n",
       "11737                           Unknown      Fen Associates   \n",
       "11738                           Unknown      Fen Associates   \n",
       "11739                           Unknown      Fen Associates   \n",
       "11740                       IT Services            Devoteam   \n",
       "11741                       IT Services            Devoteam   \n",
       "\n",
       "                                          cleaned_review  \\\n",
       "0      ['good', 'benefit', 'flexible', 'hour', 'micro...   \n",
       "1      ['good', 'culture', 'advanced', 'skillsets', '...   \n",
       "2      ['clean', 'bright', 'office', 'friendly', 'amp...   \n",
       "3      ['many', 'training', 'program', 'no', 'managem...   \n",
       "4      ['no', 'ot', 'worklife', 'balance', 'enough', ...   \n",
       "...                                                  ...   \n",
       "11737  ['extremely', 'friendly', 'people', 'office', ...   \n",
       "11738  ['many', 'nice', 'people', 'start', 'lot', 'op...   \n",
       "11739  ['transferwise', 'really', 'cool', 'culture', ...   \n",
       "11740  ['great', 'people', 'lot', 'knowledge', 'much'...   \n",
       "11741  ['open', 'staff', 'willing', 'help', 'not', 't...   \n",
       "\n",
       "                                         cleaned_review2  \\\n",
       "0      ['benefit', 'flexible', 'hour', 'micromanageme...   \n",
       "1      ['culture', 'advanced', 'skillsets', 'learn', ...   \n",
       "2      ['clean', 'bright', 'office', 'friendly', 'amp...   \n",
       "3      ['many', 'training', 'program', 'management', ...   \n",
       "4      ['ot', 'worklife', 'balance', 'enough', 'workl...   \n",
       "...                                                  ...   \n",
       "11737  ['extremely', 'friendly', 'people', 'office', ...   \n",
       "11738  ['many', 'nice', 'people', 'start', 'lot', 'op...   \n",
       "11739  ['transferwise', 'really', 'cool', 'culture', ...   \n",
       "11740  ['people', 'lot', 'knowledge', 'much', 'agile'...   \n",
       "11741  ['open', 'staff', 'willing', 'help', 'think', ...   \n",
       "\n",
       "                  pred_topic  \n",
       "0      Benefits/Renumeration  \n",
       "1                 Management  \n",
       "2               Culture/Team  \n",
       "3                 Management  \n",
       "4      Benefits/Renumeration  \n",
       "...                      ...  \n",
       "11737             Management  \n",
       "11738  Benefits/Renumeration  \n",
       "11739             Management  \n",
       "11740  Benefits/Renumeration  \n",
       "11741           Culture/Team  \n",
       "\n",
       "[11742 rows x 16 columns]"
      ]
     },
     "execution_count": 53,
     "metadata": {},
     "output_type": "execute_result"
    }
   ],
   "source": [
    "df"
   ]
  },
  {
   "cell_type": "code",
   "execution_count": 55,
   "metadata": {},
   "outputs": [],
   "source": [
    "df[\"rating_class\"] = df[\"overall_rating\"].map({1: \"Negative\", 2: \"Negative\", 3: \"Neutral\", 4: \"Positive\", 5:\"Positive\"})"
   ]
  },
  {
   "cell_type": "code",
   "execution_count": 74,
   "metadata": {},
   "outputs": [
    {
     "data": {
      "text/plain": [
       "Singapore (Singapore)    11742\n",
       "Name: Location, dtype: int64"
      ]
     },
     "execution_count": 74,
     "metadata": {},
     "output_type": "execute_result"
    }
   ],
   "source": [
    "df[\"Location\"].value_counts()"
   ]
  },
  {
   "cell_type": "code",
   "execution_count": 33,
   "metadata": {},
   "outputs": [],
   "source": [
    "# df.to_csv(\"reviews_final_cleaned.csv\", index=False)\n",
    "# df = pd.read_csv(\"reviews_final_cleaned.csv\")"
   ]
  },
  {
   "cell_type": "code",
   "execution_count": 78,
   "metadata": {},
   "outputs": [],
   "source": [
    "# Train/Test Split\n",
    "# from sklearn.model_selection import train_test_split\n",
    "trainData, testData = train_test_split(df, test_size=0.2, random_state=0)"
   ]
  },
  {
   "cell_type": "code",
   "execution_count": 79,
   "metadata": {},
   "outputs": [
    {
     "data": {
      "text/plain": [
       "Positive    8064\n",
       "Negative    2010\n",
       "Neutral     1668\n",
       "Name: rating_class, dtype: int64"
      ]
     },
     "execution_count": 79,
     "metadata": {},
     "output_type": "execute_result"
    }
   ],
   "source": [
    "df['rating_class'].value_counts()"
   ]
  },
  {
   "cell_type": "code",
   "execution_count": 80,
   "metadata": {},
   "outputs": [
    {
     "data": {
      "text/plain": [
       "Positive    6440\n",
       "Negative    1611\n",
       "Neutral     1342\n",
       "Name: rating_class, dtype: int64"
      ]
     },
     "execution_count": 80,
     "metadata": {},
     "output_type": "execute_result"
    }
   ],
   "source": [
    "trainData['rating_class'].value_counts()"
   ]
  },
  {
   "cell_type": "code",
   "execution_count": 81,
   "metadata": {},
   "outputs": [
    {
     "data": {
      "text/plain": [
       "Positive    1624\n",
       "Negative     399\n",
       "Neutral      326\n",
       "Name: rating_class, dtype: int64"
      ]
     },
     "execution_count": 81,
     "metadata": {},
     "output_type": "execute_result"
    }
   ],
   "source": [
    "testData['rating_class'].value_counts()"
   ]
  },
  {
   "cell_type": "code",
   "execution_count": 61,
   "metadata": {},
   "outputs": [],
   "source": [
    "# Vectorizing the data\n",
    "import sklearn\n",
    "from sklearn.feature_extraction.text import TfidfVectorizer\n",
    "\n",
    "# Creating feature vectors\n",
    "vectorizer = TfidfVectorizer(min_df =5, max_df = 0.8, sublinear_tf = True, use_idf = True)\n",
    "train_vectors = vectorizer.fit_transform(trainData['cleaned_review'])\n",
    "test_vectors = vectorizer.transform(testData['cleaned_review'])"
   ]
  },
  {
   "cell_type": "code",
   "execution_count": 62,
   "metadata": {},
   "outputs": [
    {
     "data": {
      "text/plain": [
       "(9393, 3158)"
      ]
     },
     "execution_count": 62,
     "metadata": {},
     "output_type": "execute_result"
    }
   ],
   "source": [
    "train_vectors.shape"
   ]
  },
  {
   "cell_type": "code",
   "execution_count": 63,
   "metadata": {},
   "outputs": [
    {
     "data": {
      "text/plain": [
       "(2349, 3158)"
      ]
     },
     "execution_count": 63,
     "metadata": {},
     "output_type": "execute_result"
    }
   ],
   "source": [
    "test_vectors.shape"
   ]
  },
  {
   "cell_type": "code",
   "execution_count": 64,
   "metadata": {},
   "outputs": [
    {
     "name": "stdout",
     "output_type": "stream",
     "text": [
      "Training time: 11.959120s; Prediction time: 2.661644s\n",
      "Positive:  {'precision': 0.9663663663663664, 'recall': 0.9907635467980296, 'f1-score': 0.9784128914563698, 'support': 1624}\n",
      "Neutral:  {'precision': 0.9676258992805755, 'recall': 0.8251533742331288, 'f1-score': 0.8907284768211919, 'support': 326}\n",
      "Negative:  {'precision': 0.9532019704433498, 'recall': 0.9699248120300752, 'f1-score': 0.9614906832298136, 'support': 399}\n"
     ]
    }
   ],
   "source": [
    "import time\n",
    "from sklearn import svm\n",
    "from sklearn.metrics import classification_report\n",
    "# Perform classification with SVM, kernel=linear\n",
    "classifier_linear = svm.SVC(kernel='linear')\n",
    "t0 = time.time()\n",
    "classifier_linear.fit(train_vectors, trainData['rating_class'])\n",
    "t1 = time.time()\n",
    "prediction_linear = classifier_linear.predict(test_vectors)\n",
    "t2 = time.time()\n",
    "time_linear_train = t1-t0\n",
    "time_linear_predict = t2-t1\n",
    "# results\n",
    "print(\"Training time: %fs; Prediction time: %fs\" % (time_linear_train, time_linear_predict))\n",
    "report = classification_report(testData['rating_class'], prediction_linear, output_dict=True)\n",
    "print('Positive: ', report['Positive'])\n",
    "print('Neutral: ', report['Neutral'])\n",
    "print('Negative: ', report['Negative'])"
   ]
  },
  {
   "cell_type": "code",
   "execution_count": 65,
   "metadata": {},
   "outputs": [
    {
     "name": "stdout",
     "output_type": "stream",
     "text": [
      "Positive:  {'precision': 0.9663663663663664, 'recall': 0.9907635467980296, 'f1-score': 0.9784128914563698, 'support': 1624}\n",
      "Neutral:  {'precision': 0.9676258992805755, 'recall': 0.8251533742331288, 'f1-score': 0.8907284768211919, 'support': 326}\n",
      "Negative:  {'precision': 0.9532019704433498, 'recall': 0.9699248120300752, 'f1-score': 0.9614906832298136, 'support': 399}\n"
     ]
    }
   ],
   "source": [
    "report = classification_report(testData['rating_class'], prediction_linear, output_dict=True)\n",
    "print('Positive: ', report['Positive'])\n",
    "print('Neutral: ', report['Neutral'])\n",
    "print('Negative: ', report['Negative'])"
   ]
  },
  {
   "cell_type": "code",
   "execution_count": 82,
   "metadata": {},
   "outputs": [
    {
     "data": {
      "text/html": [
       "<div>\n",
       "<style scoped>\n",
       "    .dataframe tbody tr th:only-of-type {\n",
       "        vertical-align: middle;\n",
       "    }\n",
       "\n",
       "    .dataframe tbody tr th {\n",
       "        vertical-align: top;\n",
       "    }\n",
       "\n",
       "    .dataframe thead th {\n",
       "        text-align: right;\n",
       "    }\n",
       "</style>\n",
       "<table border=\"1\" class=\"dataframe\">\n",
       "  <thead>\n",
       "    <tr style=\"text-align: right;\">\n",
       "      <th></th>\n",
       "      <th>id</th>\n",
       "      <th>reviews.val.date</th>\n",
       "      <th>overall_review</th>\n",
       "      <th>Location</th>\n",
       "      <th>Title</th>\n",
       "      <th>overall_rating</th>\n",
       "      <th>careerOpportunities_rating</th>\n",
       "      <th>compBenefits_rating</th>\n",
       "      <th>cultureValues_rating</th>\n",
       "      <th>seniorManagement_rating</th>\n",
       "      <th>worklifeBalance_rating</th>\n",
       "      <th>overview.industry</th>\n",
       "      <th>header.employerName</th>\n",
       "      <th>cleaned_review</th>\n",
       "      <th>cleaned_review2</th>\n",
       "      <th>pred_topic</th>\n",
       "      <th>rating_class</th>\n",
       "    </tr>\n",
       "  </thead>\n",
       "  <tbody>\n",
       "    <tr>\n",
       "      <th>9097</th>\n",
       "      <td>29622</td>\n",
       "      <td>2020-01-01</td>\n",
       "      <td>Compensation and benefits are decent Company d...</td>\n",
       "      <td>Singapore (Singapore)</td>\n",
       "      <td>Senior Trader</td>\n",
       "      <td>3.0</td>\n",
       "      <td>3.0</td>\n",
       "      <td>3.0</td>\n",
       "      <td>3.0</td>\n",
       "      <td>1.0</td>\n",
       "      <td>2.0</td>\n",
       "      <td>Investment Banking &amp; Asset Management</td>\n",
       "      <td>Citi</td>\n",
       "      <td>['compensation', 'benefit', 'decent', 'directi...</td>\n",
       "      <td>['compensation', 'benefit', 'decent', 'directi...</td>\n",
       "      <td>Management</td>\n",
       "      <td>Neutral</td>\n",
       "    </tr>\n",
       "    <tr>\n",
       "      <th>8731</th>\n",
       "      <td>94746</td>\n",
       "      <td>2020-01-01</td>\n",
       "      <td>Flexible, close team and superiers are down to...</td>\n",
       "      <td>Singapore (Singapore)</td>\n",
       "      <td>IT Business Analyst</td>\n",
       "      <td>4.0</td>\n",
       "      <td>4.0</td>\n",
       "      <td>4.0</td>\n",
       "      <td>4.0</td>\n",
       "      <td>2.0</td>\n",
       "      <td>5.0</td>\n",
       "      <td>Computer Hardware &amp; Software</td>\n",
       "      <td>ASML</td>\n",
       "      <td>['flexible', 'close', 'team', 'superiers', 'ea...</td>\n",
       "      <td>['flexible', 'close', 'team', 'superiers', 'ea...</td>\n",
       "      <td>Management</td>\n",
       "      <td>Positive</td>\n",
       "    </tr>\n",
       "    <tr>\n",
       "      <th>5201</th>\n",
       "      <td>89017</td>\n",
       "      <td>2020-01-01</td>\n",
       "      <td>Good Company for experienced people Changing l...</td>\n",
       "      <td>Singapore (Singapore)</td>\n",
       "      <td>Associate</td>\n",
       "      <td>4.0</td>\n",
       "      <td>2.0</td>\n",
       "      <td>4.0</td>\n",
       "      <td>3.0</td>\n",
       "      <td>3.0</td>\n",
       "      <td>1.0</td>\n",
       "      <td>Unknown</td>\n",
       "      <td>ENGIE ESPAÑA</td>\n",
       "      <td>['good', 'experienced', 'people', 'change', 'l...</td>\n",
       "      <td>['experienced', 'people', 'change', 'leader', ...</td>\n",
       "      <td>Benefits/Renumeration</td>\n",
       "      <td>Positive</td>\n",
       "    </tr>\n",
       "    <tr>\n",
       "      <th>9655</th>\n",
       "      <td>16621</td>\n",
       "      <td>2020-01-01</td>\n",
       "      <td>None in three long years. Bad pay, bad work cu...</td>\n",
       "      <td>Singapore (Singapore)</td>\n",
       "      <td>Executive</td>\n",
       "      <td>1.0</td>\n",
       "      <td>1.0</td>\n",
       "      <td>1.0</td>\n",
       "      <td>1.0</td>\n",
       "      <td>1.0</td>\n",
       "      <td>1.0</td>\n",
       "      <td>Cable, Internet &amp; Telephone Providers</td>\n",
       "      <td>Singtel</td>\n",
       "      <td>['none', 'three', 'long', 'year', 'bad', 'pay'...</td>\n",
       "      <td>['none', 'three', 'long', 'year', 'bad', 'pay'...</td>\n",
       "      <td>Culture/Team</td>\n",
       "      <td>Negative</td>\n",
       "    </tr>\n",
       "    <tr>\n",
       "      <th>5296</th>\n",
       "      <td>107369</td>\n",
       "      <td>2018-03-13</td>\n",
       "      <td>Comprehensive Health Coverage. Transportation ...</td>\n",
       "      <td>Singapore (Singapore)</td>\n",
       "      <td>Engineer</td>\n",
       "      <td>4.0</td>\n",
       "      <td>0.0</td>\n",
       "      <td>4.0</td>\n",
       "      <td>0.0</td>\n",
       "      <td>0.0</td>\n",
       "      <td>0.0</td>\n",
       "      <td>Consumer Products Manufacturing</td>\n",
       "      <td>Bang &amp; Olufsen</td>\n",
       "      <td>['comprehensive', 'health', 'coverage', 'trans...</td>\n",
       "      <td>['comprehensive', 'health', 'coverage', 'trans...</td>\n",
       "      <td>Culture/Team</td>\n",
       "      <td>Positive</td>\n",
       "    </tr>\n",
       "  </tbody>\n",
       "</table>\n",
       "</div>"
      ],
      "text/plain": [
       "          id reviews.val.date  \\\n",
       "9097   29622       2020-01-01   \n",
       "8731   94746       2020-01-01   \n",
       "5201   89017       2020-01-01   \n",
       "9655   16621       2020-01-01   \n",
       "5296  107369       2018-03-13   \n",
       "\n",
       "                                         overall_review  \\\n",
       "9097  Compensation and benefits are decent Company d...   \n",
       "8731  Flexible, close team and superiers are down to...   \n",
       "5201  Good Company for experienced people Changing l...   \n",
       "9655  None in three long years. Bad pay, bad work cu...   \n",
       "5296  Comprehensive Health Coverage. Transportation ...   \n",
       "\n",
       "                   Location                Title  overall_rating  \\\n",
       "9097  Singapore (Singapore)        Senior Trader             3.0   \n",
       "8731  Singapore (Singapore)  IT Business Analyst             4.0   \n",
       "5201  Singapore (Singapore)            Associate             4.0   \n",
       "9655  Singapore (Singapore)            Executive             1.0   \n",
       "5296  Singapore (Singapore)             Engineer             4.0   \n",
       "\n",
       "      careerOpportunities_rating  compBenefits_rating  cultureValues_rating  \\\n",
       "9097                         3.0                  3.0                   3.0   \n",
       "8731                         4.0                  4.0                   4.0   \n",
       "5201                         2.0                  4.0                   3.0   \n",
       "9655                         1.0                  1.0                   1.0   \n",
       "5296                         0.0                  4.0                   0.0   \n",
       "\n",
       "      seniorManagement_rating  worklifeBalance_rating  \\\n",
       "9097                      1.0                     2.0   \n",
       "8731                      2.0                     5.0   \n",
       "5201                      3.0                     1.0   \n",
       "9655                      1.0                     1.0   \n",
       "5296                      0.0                     0.0   \n",
       "\n",
       "                          overview.industry header.employerName  \\\n",
       "9097  Investment Banking & Asset Management                Citi   \n",
       "8731           Computer Hardware & Software                ASML   \n",
       "5201                                Unknown        ENGIE ESPAÑA   \n",
       "9655  Cable, Internet & Telephone Providers             Singtel   \n",
       "5296        Consumer Products Manufacturing      Bang & Olufsen   \n",
       "\n",
       "                                         cleaned_review  \\\n",
       "9097  ['compensation', 'benefit', 'decent', 'directi...   \n",
       "8731  ['flexible', 'close', 'team', 'superiers', 'ea...   \n",
       "5201  ['good', 'experienced', 'people', 'change', 'l...   \n",
       "9655  ['none', 'three', 'long', 'year', 'bad', 'pay'...   \n",
       "5296  ['comprehensive', 'health', 'coverage', 'trans...   \n",
       "\n",
       "                                        cleaned_review2  \\\n",
       "9097  ['compensation', 'benefit', 'decent', 'directi...   \n",
       "8731  ['flexible', 'close', 'team', 'superiers', 'ea...   \n",
       "5201  ['experienced', 'people', 'change', 'leader', ...   \n",
       "9655  ['none', 'three', 'long', 'year', 'bad', 'pay'...   \n",
       "5296  ['comprehensive', 'health', 'coverage', 'trans...   \n",
       "\n",
       "                 pred_topic rating_class  \n",
       "9097             Management      Neutral  \n",
       "8731             Management     Positive  \n",
       "5201  Benefits/Renumeration     Positive  \n",
       "9655           Culture/Team     Negative  \n",
       "5296           Culture/Team     Positive  "
      ]
     },
     "execution_count": 82,
     "metadata": {},
     "output_type": "execute_result"
    }
   ],
   "source": [
    "testData.head()"
   ]
  },
  {
   "cell_type": "code",
   "execution_count": 66,
   "metadata": {},
   "outputs": [
    {
     "name": "stdout",
     "output_type": "stream",
     "text": [
      "['Negative']\n"
     ]
    }
   ],
   "source": [
    "# Testing\n",
    "review = \"The company is horrible. no benefits. bad management\"\n",
    "review_vector = vectorizer.transform([review])\n",
    "print(classifier_linear.predict(review_vector))"
   ]
  },
  {
   "cell_type": "code",
   "execution_count": 67,
   "metadata": {},
   "outputs": [
    {
     "name": "stdout",
     "output_type": "stream",
     "text": [
      "['Positive']\n"
     ]
    }
   ],
   "source": [
    "# Testing\n",
    "review = \"The company is great. people are friendly\"\n",
    "review_vector = vectorizer.transform([review])\n",
    "print(classifier_linear.predict(review_vector))"
   ]
  },
  {
   "cell_type": "code",
   "execution_count": 83,
   "metadata": {},
   "outputs": [
    {
     "name": "stderr",
     "output_type": "stream",
     "text": [
      "C:\\Gabriel\\Udemy\\Anaconda\\lib\\site-packages\\ipykernel_launcher.py:1: SettingWithCopyWarning: \n",
      "A value is trying to be set on a copy of a slice from a DataFrame.\n",
      "Try using .loc[row_indexer,col_indexer] = value instead\n",
      "\n",
      "See the caveats in the documentation: http://pandas.pydata.org/pandas-docs/stable/user_guide/indexing.html#returning-a-view-versus-a-copy\n",
      "  \"\"\"Entry point for launching an IPython kernel.\n"
     ]
    }
   ],
   "source": [
    "testData[\"predict\"] = prediction_linear"
   ]
  },
  {
   "cell_type": "code",
   "execution_count": 84,
   "metadata": {},
   "outputs": [
    {
     "data": {
      "text/html": [
       "<div>\n",
       "<style scoped>\n",
       "    .dataframe tbody tr th:only-of-type {\n",
       "        vertical-align: middle;\n",
       "    }\n",
       "\n",
       "    .dataframe tbody tr th {\n",
       "        vertical-align: top;\n",
       "    }\n",
       "\n",
       "    .dataframe thead th {\n",
       "        text-align: right;\n",
       "    }\n",
       "</style>\n",
       "<table border=\"1\" class=\"dataframe\">\n",
       "  <thead>\n",
       "    <tr style=\"text-align: right;\">\n",
       "      <th></th>\n",
       "      <th>id</th>\n",
       "      <th>reviews.val.date</th>\n",
       "      <th>overall_review</th>\n",
       "      <th>Location</th>\n",
       "      <th>Title</th>\n",
       "      <th>overall_rating</th>\n",
       "      <th>careerOpportunities_rating</th>\n",
       "      <th>compBenefits_rating</th>\n",
       "      <th>cultureValues_rating</th>\n",
       "      <th>seniorManagement_rating</th>\n",
       "      <th>worklifeBalance_rating</th>\n",
       "      <th>overview.industry</th>\n",
       "      <th>header.employerName</th>\n",
       "      <th>cleaned_review</th>\n",
       "      <th>cleaned_review2</th>\n",
       "      <th>pred_topic</th>\n",
       "      <th>rating_class</th>\n",
       "      <th>predict</th>\n",
       "    </tr>\n",
       "  </thead>\n",
       "  <tbody>\n",
       "    <tr>\n",
       "      <th>9097</th>\n",
       "      <td>29622</td>\n",
       "      <td>2020-01-01</td>\n",
       "      <td>Compensation and benefits are decent Company d...</td>\n",
       "      <td>Singapore (Singapore)</td>\n",
       "      <td>Senior Trader</td>\n",
       "      <td>3.0</td>\n",
       "      <td>3.0</td>\n",
       "      <td>3.0</td>\n",
       "      <td>3.0</td>\n",
       "      <td>1.0</td>\n",
       "      <td>2.0</td>\n",
       "      <td>Investment Banking &amp; Asset Management</td>\n",
       "      <td>Citi</td>\n",
       "      <td>['compensation', 'benefit', 'decent', 'directi...</td>\n",
       "      <td>['compensation', 'benefit', 'decent', 'directi...</td>\n",
       "      <td>Management</td>\n",
       "      <td>Neutral</td>\n",
       "      <td>Neutral</td>\n",
       "    </tr>\n",
       "    <tr>\n",
       "      <th>8731</th>\n",
       "      <td>94746</td>\n",
       "      <td>2020-01-01</td>\n",
       "      <td>Flexible, close team and superiers are down to...</td>\n",
       "      <td>Singapore (Singapore)</td>\n",
       "      <td>IT Business Analyst</td>\n",
       "      <td>4.0</td>\n",
       "      <td>4.0</td>\n",
       "      <td>4.0</td>\n",
       "      <td>4.0</td>\n",
       "      <td>2.0</td>\n",
       "      <td>5.0</td>\n",
       "      <td>Computer Hardware &amp; Software</td>\n",
       "      <td>ASML</td>\n",
       "      <td>['flexible', 'close', 'team', 'superiers', 'ea...</td>\n",
       "      <td>['flexible', 'close', 'team', 'superiers', 'ea...</td>\n",
       "      <td>Management</td>\n",
       "      <td>Positive</td>\n",
       "      <td>Positive</td>\n",
       "    </tr>\n",
       "    <tr>\n",
       "      <th>5201</th>\n",
       "      <td>89017</td>\n",
       "      <td>2020-01-01</td>\n",
       "      <td>Good Company for experienced people Changing l...</td>\n",
       "      <td>Singapore (Singapore)</td>\n",
       "      <td>Associate</td>\n",
       "      <td>4.0</td>\n",
       "      <td>2.0</td>\n",
       "      <td>4.0</td>\n",
       "      <td>3.0</td>\n",
       "      <td>3.0</td>\n",
       "      <td>1.0</td>\n",
       "      <td>Unknown</td>\n",
       "      <td>ENGIE ESPAÑA</td>\n",
       "      <td>['good', 'experienced', 'people', 'change', 'l...</td>\n",
       "      <td>['experienced', 'people', 'change', 'leader', ...</td>\n",
       "      <td>Benefits/Renumeration</td>\n",
       "      <td>Positive</td>\n",
       "      <td>Positive</td>\n",
       "    </tr>\n",
       "    <tr>\n",
       "      <th>9655</th>\n",
       "      <td>16621</td>\n",
       "      <td>2020-01-01</td>\n",
       "      <td>None in three long years. Bad pay, bad work cu...</td>\n",
       "      <td>Singapore (Singapore)</td>\n",
       "      <td>Executive</td>\n",
       "      <td>1.0</td>\n",
       "      <td>1.0</td>\n",
       "      <td>1.0</td>\n",
       "      <td>1.0</td>\n",
       "      <td>1.0</td>\n",
       "      <td>1.0</td>\n",
       "      <td>Cable, Internet &amp; Telephone Providers</td>\n",
       "      <td>Singtel</td>\n",
       "      <td>['none', 'three', 'long', 'year', 'bad', 'pay'...</td>\n",
       "      <td>['none', 'three', 'long', 'year', 'bad', 'pay'...</td>\n",
       "      <td>Culture/Team</td>\n",
       "      <td>Negative</td>\n",
       "      <td>Negative</td>\n",
       "    </tr>\n",
       "    <tr>\n",
       "      <th>5296</th>\n",
       "      <td>107369</td>\n",
       "      <td>2018-03-13</td>\n",
       "      <td>Comprehensive Health Coverage. Transportation ...</td>\n",
       "      <td>Singapore (Singapore)</td>\n",
       "      <td>Engineer</td>\n",
       "      <td>4.0</td>\n",
       "      <td>0.0</td>\n",
       "      <td>4.0</td>\n",
       "      <td>0.0</td>\n",
       "      <td>0.0</td>\n",
       "      <td>0.0</td>\n",
       "      <td>Consumer Products Manufacturing</td>\n",
       "      <td>Bang &amp; Olufsen</td>\n",
       "      <td>['comprehensive', 'health', 'coverage', 'trans...</td>\n",
       "      <td>['comprehensive', 'health', 'coverage', 'trans...</td>\n",
       "      <td>Culture/Team</td>\n",
       "      <td>Positive</td>\n",
       "      <td>Positive</td>\n",
       "    </tr>\n",
       "  </tbody>\n",
       "</table>\n",
       "</div>"
      ],
      "text/plain": [
       "          id reviews.val.date  \\\n",
       "9097   29622       2020-01-01   \n",
       "8731   94746       2020-01-01   \n",
       "5201   89017       2020-01-01   \n",
       "9655   16621       2020-01-01   \n",
       "5296  107369       2018-03-13   \n",
       "\n",
       "                                         overall_review  \\\n",
       "9097  Compensation and benefits are decent Company d...   \n",
       "8731  Flexible, close team and superiers are down to...   \n",
       "5201  Good Company for experienced people Changing l...   \n",
       "9655  None in three long years. Bad pay, bad work cu...   \n",
       "5296  Comprehensive Health Coverage. Transportation ...   \n",
       "\n",
       "                   Location                Title  overall_rating  \\\n",
       "9097  Singapore (Singapore)        Senior Trader             3.0   \n",
       "8731  Singapore (Singapore)  IT Business Analyst             4.0   \n",
       "5201  Singapore (Singapore)            Associate             4.0   \n",
       "9655  Singapore (Singapore)            Executive             1.0   \n",
       "5296  Singapore (Singapore)             Engineer             4.0   \n",
       "\n",
       "      careerOpportunities_rating  compBenefits_rating  cultureValues_rating  \\\n",
       "9097                         3.0                  3.0                   3.0   \n",
       "8731                         4.0                  4.0                   4.0   \n",
       "5201                         2.0                  4.0                   3.0   \n",
       "9655                         1.0                  1.0                   1.0   \n",
       "5296                         0.0                  4.0                   0.0   \n",
       "\n",
       "      seniorManagement_rating  worklifeBalance_rating  \\\n",
       "9097                      1.0                     2.0   \n",
       "8731                      2.0                     5.0   \n",
       "5201                      3.0                     1.0   \n",
       "9655                      1.0                     1.0   \n",
       "5296                      0.0                     0.0   \n",
       "\n",
       "                          overview.industry header.employerName  \\\n",
       "9097  Investment Banking & Asset Management                Citi   \n",
       "8731           Computer Hardware & Software                ASML   \n",
       "5201                                Unknown        ENGIE ESPAÑA   \n",
       "9655  Cable, Internet & Telephone Providers             Singtel   \n",
       "5296        Consumer Products Manufacturing      Bang & Olufsen   \n",
       "\n",
       "                                         cleaned_review  \\\n",
       "9097  ['compensation', 'benefit', 'decent', 'directi...   \n",
       "8731  ['flexible', 'close', 'team', 'superiers', 'ea...   \n",
       "5201  ['good', 'experienced', 'people', 'change', 'l...   \n",
       "9655  ['none', 'three', 'long', 'year', 'bad', 'pay'...   \n",
       "5296  ['comprehensive', 'health', 'coverage', 'trans...   \n",
       "\n",
       "                                        cleaned_review2  \\\n",
       "9097  ['compensation', 'benefit', 'decent', 'directi...   \n",
       "8731  ['flexible', 'close', 'team', 'superiers', 'ea...   \n",
       "5201  ['experienced', 'people', 'change', 'leader', ...   \n",
       "9655  ['none', 'three', 'long', 'year', 'bad', 'pay'...   \n",
       "5296  ['comprehensive', 'health', 'coverage', 'trans...   \n",
       "\n",
       "                 pred_topic rating_class   predict  \n",
       "9097             Management      Neutral   Neutral  \n",
       "8731             Management     Positive  Positive  \n",
       "5201  Benefits/Renumeration     Positive  Positive  \n",
       "9655           Culture/Team     Negative  Negative  \n",
       "5296           Culture/Team     Positive  Positive  "
      ]
     },
     "execution_count": 84,
     "metadata": {},
     "output_type": "execute_result"
    }
   ],
   "source": [
    "testData.head()"
   ]
  },
  {
   "cell_type": "code",
   "execution_count": 86,
   "metadata": {},
   "outputs": [
    {
     "data": {
      "text/html": [
       "<div>\n",
       "<style scoped>\n",
       "    .dataframe tbody tr th:only-of-type {\n",
       "        vertical-align: middle;\n",
       "    }\n",
       "\n",
       "    .dataframe tbody tr th {\n",
       "        vertical-align: top;\n",
       "    }\n",
       "\n",
       "    .dataframe thead th {\n",
       "        text-align: right;\n",
       "    }\n",
       "</style>\n",
       "<table border=\"1\" class=\"dataframe\">\n",
       "  <thead>\n",
       "    <tr style=\"text-align: right;\">\n",
       "      <th></th>\n",
       "      <th>overall_review</th>\n",
       "      <th>rating_class</th>\n",
       "      <th>predict</th>\n",
       "    </tr>\n",
       "  </thead>\n",
       "  <tbody>\n",
       "    <tr>\n",
       "      <th>5493</th>\n",
       "      <td>Access to talent and clients Unannounced restr...</td>\n",
       "      <td>Neutral</td>\n",
       "      <td>Positive</td>\n",
       "    </tr>\n",
       "    <tr>\n",
       "      <th>9554</th>\n",
       "      <td>Learning embedded technology very well. there ...</td>\n",
       "      <td>Positive</td>\n",
       "      <td>Negative</td>\n",
       "    </tr>\n",
       "    <tr>\n",
       "      <th>11044</th>\n",
       "      <td>good Work Life Balance &amp; Supervisor Branding i...</td>\n",
       "      <td>Neutral</td>\n",
       "      <td>Positive</td>\n",
       "    </tr>\n",
       "    <tr>\n",
       "      <th>4816</th>\n",
       "      <td>They have good employee policies in the market...</td>\n",
       "      <td>Neutral</td>\n",
       "      <td>Positive</td>\n",
       "    </tr>\n",
       "    <tr>\n",
       "      <th>7476</th>\n",
       "      <td>People are generally nice, family-like environ...</td>\n",
       "      <td>Neutral</td>\n",
       "      <td>Positive</td>\n",
       "    </tr>\n",
       "    <tr>\n",
       "      <th>...</th>\n",
       "      <td>...</td>\n",
       "      <td>...</td>\n",
       "      <td>...</td>\n",
       "    </tr>\n",
       "    <tr>\n",
       "      <th>265</th>\n",
       "      <td>Colleagues are great. If you’re lucky to get t...</td>\n",
       "      <td>Negative</td>\n",
       "      <td>Positive</td>\n",
       "    </tr>\n",
       "    <tr>\n",
       "      <th>10095</th>\n",
       "      <td>Good working hours and work-life balance Too m...</td>\n",
       "      <td>Neutral</td>\n",
       "      <td>Negative</td>\n",
       "    </tr>\n",
       "    <tr>\n",
       "      <th>772</th>\n",
       "      <td>working hours is good, work-life balance low b...</td>\n",
       "      <td>Neutral</td>\n",
       "      <td>Positive</td>\n",
       "    </tr>\n",
       "    <tr>\n",
       "      <th>8445</th>\n",
       "      <td>They have good employee policies in the market...</td>\n",
       "      <td>Neutral</td>\n",
       "      <td>Positive</td>\n",
       "    </tr>\n",
       "    <tr>\n",
       "      <th>10833</th>\n",
       "      <td>Good healthcare benefits. Bonuses can be good....</td>\n",
       "      <td>Neutral</td>\n",
       "      <td>Positive</td>\n",
       "    </tr>\n",
       "  </tbody>\n",
       "</table>\n",
       "<p>84 rows × 3 columns</p>\n",
       "</div>"
      ],
      "text/plain": [
       "                                          overall_review rating_class  \\\n",
       "5493   Access to talent and clients Unannounced restr...      Neutral   \n",
       "9554   Learning embedded technology very well. there ...     Positive   \n",
       "11044  good Work Life Balance & Supervisor Branding i...      Neutral   \n",
       "4816   They have good employee policies in the market...      Neutral   \n",
       "7476   People are generally nice, family-like environ...      Neutral   \n",
       "...                                                  ...          ...   \n",
       "265    Colleagues are great. If you’re lucky to get t...     Negative   \n",
       "10095  Good working hours and work-life balance Too m...      Neutral   \n",
       "772    working hours is good, work-life balance low b...      Neutral   \n",
       "8445   They have good employee policies in the market...      Neutral   \n",
       "10833  Good healthcare benefits. Bonuses can be good....      Neutral   \n",
       "\n",
       "        predict  \n",
       "5493   Positive  \n",
       "9554   Negative  \n",
       "11044  Positive  \n",
       "4816   Positive  \n",
       "7476   Positive  \n",
       "...         ...  \n",
       "265    Positive  \n",
       "10095  Negative  \n",
       "772    Positive  \n",
       "8445   Positive  \n",
       "10833  Positive  \n",
       "\n",
       "[84 rows x 3 columns]"
      ]
     },
     "execution_count": 86,
     "metadata": {},
     "output_type": "execute_result"
    }
   ],
   "source": [
    "# Can do slightly deeper analysis on those which predicted wrongly!\n",
    "testData[[\"overall_review\", \"rating_class\", \"predict\"]].loc[testData['rating_class'] != testData['predict']]"
   ]
  },
  {
   "cell_type": "code",
   "execution_count": 87,
   "metadata": {},
   "outputs": [
    {
     "name": "stdout",
     "output_type": "stream",
     "text": [
      "[[ 387    2   10]\n",
      " [  11  269   46]\n",
      " [   8    7 1609]]\n",
      "              precision    recall  f1-score   support\n",
      "\n",
      "    Negative       0.95      0.97      0.96       399\n",
      "     Neutral       0.97      0.83      0.89       326\n",
      "    Positive       0.97      0.99      0.98      1624\n",
      "\n",
      "    accuracy                           0.96      2349\n",
      "   macro avg       0.96      0.93      0.94      2349\n",
      "weighted avg       0.96      0.96      0.96      2349\n",
      "\n",
      "MCC-Score: 0.9239067539351911\n"
     ]
    },
    {
     "data": {
      "image/png": "[encoded data removed]",
      "text/plain": [
       "<Figure size 720x720 with 2 Axes>"
      ]
     },
     "metadata": {
      "needs_background": "light"
     },
     "output_type": "display_data"
    }
   ],
   "source": [
    "import seaborn as sns\n",
    "from sklearn.metrics import classification_report, confusion_matrix, accuracy_score, matthews_corrcoef\n",
    "print(confusion_matrix(testData['rating_class'], testData['predict'], labels=['Negative', 'Neutral', 'Positive']))\n",
    "print(classification_report(testData['rating_class'], testData['predict']))\n",
    "print(\"MCC-Score:\", matthews_corrcoef(testData['rating_class'], testData['predict']))\n",
    "# fix for mpl bug that cuts off top/bottom of seaborn viz\n",
    "O_cm = confusion_matrix(testData['rating_class'], testData['predict'], labels=['Negative', 'Neutral', 'Positive'])\n",
    "plt.figure(figsize=(10,10))\n",
    "sns.heatmap(O_cm, annot=True)\n",
    "# labels = ['Negative', 'Neutral', 'Positive']\n",
    "plt.ylabel('True label')\n",
    "plt.xlabel('Predicted label')\n",
    "plt.title('Overall')\n",
    "b, t = plt.ylim() # discover the values for bottom and top\n",
    "b += 0.5 # Add 0.5 to the bottom\n",
    "t -= 0.5 # Subtract 0.5 from the top\n",
    "plt.ylim(b, t) # update the ylim(bottom, top) values\n",
    "plt.show()"
   ]
  },
  {
   "cell_type": "code",
   "execution_count": 72,
   "metadata": {},
   "outputs": [
    {
     "data": {
      "text/plain": [
       "Positive    1665\n",
       "Negative     406\n",
       "Neutral      278\n",
       "Name: predict, dtype: int64"
      ]
     },
     "execution_count": 72,
     "metadata": {},
     "output_type": "execute_result"
    }
   ],
   "source": [
    "testData['predict'].value_counts()"
   ]
  },
  {
   "cell_type": "markdown",
   "metadata": {},
   "source": [
    "### Analysis on test data set"
   ]
  },
  {
   "cell_type": "code",
   "execution_count": 88,
   "metadata": {},
   "outputs": [
    {
     "data": {
      "text/plain": [
       "Singapore (Singapore)    11742\n",
       "Name: Location, dtype: int64"
      ]
     },
     "execution_count": 88,
     "metadata": {},
     "output_type": "execute_result"
    }
   ],
   "source": [
    "df['Location'].value_counts().head(10)"
   ]
  },
  {
   "cell_type": "code",
   "execution_count": 123,
   "metadata": {},
   "outputs": [],
   "source": [
    "# Unlike grouping employers into categories like what was done in topic modelling, I decided to look at the top represented industries instead due to sample size issues."
   ]
  },
  {
   "cell_type": "code",
   "execution_count": 89,
   "metadata": {},
   "outputs": [
    {
     "data": {
      "text/plain": [
       "Unknown                                    2460\n",
       "IT Services                                1247\n",
       "Computer Hardware & Software               1076\n",
       "Internet                                    817\n",
       "Staffing & Outsourcing                      566\n",
       "Enterprise Software & Network Solutions     551\n",
       "Investment Banking & Asset Management       480\n",
       "Consulting                                  354\n",
       "Banks & Building Societies                  331\n",
       "Biotech & Pharmaceuticals                   288\n",
       "Name: overview.industry, dtype: int64"
      ]
     },
     "execution_count": 89,
     "metadata": {},
     "output_type": "execute_result"
    }
   ],
   "source": [
    "df['overview.industry'].value_counts().head(10)"
   ]
  },
  {
   "cell_type": "code",
   "execution_count": null,
   "metadata": {},
   "outputs": [],
   "source": [
    "import seaborn as sns\n",
    "import pandas as pd\n",
    "import matplotlib.pyplot as plt"
   ]
  },
  {
   "cell_type": "code",
   "execution_count": 93,
   "metadata": {},
   "outputs": [
    {
     "name": "stdout",
     "output_type": "stream",
     "text": [
      "[[ 62   0   1]\n",
      " [  2  27   3]\n",
      " [  1   3 151]]\n",
      "              precision    recall  f1-score   support\n",
      "\n",
      "    Negative       0.95      0.98      0.97        63\n",
      "     Neutral       0.90      0.84      0.87        32\n",
      "    Positive       0.97      0.97      0.97       155\n",
      "\n",
      "    accuracy                           0.96       250\n",
      "   macro avg       0.94      0.93      0.94       250\n",
      "weighted avg       0.96      0.96      0.96       250\n",
      "\n",
      "MCC-Score: 0.9253070478229751\n"
     ]
    },
    {
     "data": {
      "image/png": "[encoded data removed]",
      "text/plain": [
       "<Figure size 720x720 with 2 Axes>"
      ]
     },
     "metadata": {
      "needs_background": "light"
     },
     "output_type": "display_data"
    }
   ],
   "source": [
    "# Information Technology #\n",
    "IT = testData[testData[\"overview.industry\"]==\"IT Services\"]\n",
    "IT_cm = confusion_matrix(IT['rating_class'], IT['predict'], labels=['Negative', 'Neutral', 'Positive'])\n",
    "print(confusion_matrix(IT['rating_class'], IT['predict']))\n",
    "print(classification_report(IT['rating_class'], IT['predict']))\n",
    "print(\"MCC-Score:\", matthews_corrcoef(IT['rating_class'], IT['predict']))\n",
    "# fix for mpl bug that cuts off top/bottom of seaborn viz\n",
    "plt.figure(figsize=(10,10))\n",
    "sns.heatmap(IT_cm, annot=True)\n",
    "plt.ylabel('True label')\n",
    "plt.xlabel('Predicted label')\n",
    "plt.title('IT Services')\n",
    "b, t = plt.ylim() # discover the values for bottom and top\n",
    "b += 0.5 # Add 0.5 to the bottom\n",
    "t -= 0.5 # Subtract 0.5 from the top\n",
    "plt.ylim(b, t) # update the ylim(bottom, top) values\n",
    "plt.show()"
   ]
  },
  {
   "cell_type": "code",
   "execution_count": 99,
   "metadata": {},
   "outputs": [
    {
     "name": "stdout",
     "output_type": "stream",
     "text": [
      "[[ 20   0   2]\n",
      " [  3  26   3]\n",
      " [  1   0 136]]\n",
      "              precision    recall  f1-score   support\n",
      "\n",
      "    Negative       0.83      0.91      0.87        22\n",
      "     Neutral       1.00      0.81      0.90        32\n",
      "    Positive       0.96      0.99      0.98       137\n",
      "\n",
      "    accuracy                           0.95       191\n",
      "   macro avg       0.93      0.90      0.91       191\n",
      "weighted avg       0.96      0.95      0.95       191\n",
      "\n",
      "MCC-Score: 0.8931406144298799\n"
     ]
    },
    {
     "data": {
      "image/png": "[encoded data removed]",
      "text/plain": [
       "<Figure size 720x720 with 2 Axes>"
      ]
     },
     "metadata": {
      "needs_background": "light"
     },
     "output_type": "display_data"
    }
   ],
   "source": [
    "# Computer Hardware & Software #\n",
    "CHS = testData[testData[\"overview.industry\"]==\"Computer Hardware & Software\"]\n",
    "CHS_cm = confusion_matrix(CHS['rating_class'], CHS['predict'], labels=['Negative', 'Neutral', 'Positive'])\n",
    "print(confusion_matrix(CHS['rating_class'], CHS['predict']))\n",
    "print(classification_report(CHS['rating_class'], CHS['predict']))\n",
    "print(\"MCC-Score:\", matthews_corrcoef(CHS['rating_class'], CHS['predict']))\n",
    "# fix for mpl bug that cuts off top/bottom of seaborn viz\n",
    "plt.figure(figsize=(10,10))\n",
    "sns.heatmap(CHS_cm, annot=True)\n",
    "plt.ylabel('True label')\n",
    "plt.xlabel('Predicted label')\n",
    "plt.title('Computer Hardware & Software')\n",
    "b, t = plt.ylim() # discover the values for bottom and top\n",
    "b += 0.5 # Add 0.5 to the bottom\n",
    "t -= 0.5 # Subtract 0.5 from the top\n",
    "plt.ylim(b, t) # update the ylim(bottom, top) values\n",
    "plt.show()"
   ]
  },
  {
   "cell_type": "code",
   "execution_count": 97,
   "metadata": {},
   "outputs": [
    {
     "name": "stdout",
     "output_type": "stream",
     "text": [
      "[[22  0  0]\n",
      " [ 0  4  3]\n",
      " [ 2  0 81]]\n",
      "              precision    recall  f1-score   support\n",
      "\n",
      "    Negative       0.92      1.00      0.96        22\n",
      "     Neutral       1.00      0.57      0.73         7\n",
      "    Positive       0.96      0.98      0.97        83\n",
      "\n",
      "    accuracy                           0.96       112\n",
      "   macro avg       0.96      0.85      0.88       112\n",
      "weighted avg       0.96      0.96      0.95       112\n",
      "\n",
      "MCC-Score: 0.8898251787968233\n"
     ]
    },
    {
     "data": {
      "image/png": "[encoded data removed]",
      "text/plain": [
       "<Figure size 720x720 with 2 Axes>"
      ]
     },
     "metadata": {
      "needs_background": "light"
     },
     "output_type": "display_data"
    }
   ],
   "source": [
    "# Staffing & Outsourcing #\n",
    "SAO = testData[testData[\"overview.industry\"]==\"Staffing & Outsourcing\"]\n",
    "SAO_cm = confusion_matrix(SAO['rating_class'], SAO['predict'], labels=['Negative', 'Neutral', 'Positive'])\n",
    "print(confusion_matrix(SAO['rating_class'], SAO['predict']))\n",
    "print(classification_report(SAO['rating_class'], SAO['predict']))\n",
    "print(\"MCC-Score:\", matthews_corrcoef(SAO['rating_class'], SAO['predict']))\n",
    "# fix for mpl bug that cuts off top/bottom of seaborn viz\n",
    "plt.figure(figsize=(10,10))\n",
    "sns.heatmap(SAO_cm, annot=True)\n",
    "plt.ylabel('True label')\n",
    "plt.xlabel('Predicted label')\n",
    "plt.title('Staffing & Outsourcing')\n",
    "b, t = plt.ylim() # discover the values for bottom and top\n",
    "b += 0.5 # Add 0.5 to the bottom\n",
    "t -= 0.5 # Subtract 0.5 from the top\n",
    "plt.ylim(b, t) # update the ylim(bottom, top) values\n",
    "plt.show()"
   ]
  },
  {
   "cell_type": "code",
   "execution_count": 304,
   "metadata": {},
   "outputs": [],
   "source": [
    "# Incorporating Topic Modelling #"
   ]
  },
  {
   "cell_type": "code",
   "execution_count": 96,
   "metadata": {},
   "outputs": [
    {
     "data": {
      "text/plain": [
       "Management               968\n",
       "Benefits/Renumeration    758\n",
       "Culture/Team             623\n",
       "Name: pred_topic, dtype: int64"
      ]
     },
     "execution_count": 96,
     "metadata": {},
     "output_type": "execute_result"
    }
   ],
   "source": [
    "testData['pred_topic'].value_counts()"
   ]
  },
  {
   "cell_type": "code",
   "execution_count": 101,
   "metadata": {},
   "outputs": [
    {
     "name": "stdout",
     "output_type": "stream",
     "text": [
      "[[106   1   3]\n",
      " [  3 104  24]\n",
      " [  3   2 722]]\n",
      "              precision    recall  f1-score   support\n",
      "\n",
      "    Negative       0.95      0.96      0.95       110\n",
      "     Neutral       0.97      0.79      0.87       131\n",
      "    Positive       0.96      0.99      0.98       727\n",
      "\n",
      "    accuracy                           0.96       968\n",
      "   macro avg       0.96      0.92      0.94       968\n",
      "weighted avg       0.96      0.96      0.96       968\n",
      "\n",
      "MCC-Score: 0.90677374766905\n"
     ]
    },
    {
     "data": {
      "image/png": "[encoded data removed]",
      "text/plain": [
       "<Figure size 720x720 with 2 Axes>"
      ]
     },
     "metadata": {
      "needs_background": "light"
     },
     "output_type": "display_data"
    }
   ],
   "source": [
    "# Management #\n",
    "MNG = testData[testData[\"pred_topic\"]==\"Management\"]\n",
    "MNG_cm = confusion_matrix(MNG['rating_class'], MNG['predict'], labels=['Negative', 'Neutral', 'Positive'])\n",
    "print(confusion_matrix(MNG['rating_class'], MNG['predict']))\n",
    "print(classification_report(MNG['rating_class'], MNG['predict']))\n",
    "print(\"MCC-Score:\", matthews_corrcoef(MNG['rating_class'], MNG['predict']))\n",
    "# fix for mpl bug that cuts off top/bottom of seaborn viz\n",
    "plt.figure(figsize=(10,10))\n",
    "sns.heatmap(MNG_cm, annot=True)\n",
    "plt.ylabel('True label')\n",
    "plt.xlabel('Predicted label')\n",
    "plt.title('Management')\n",
    "b, t = plt.ylim() # discover the values for bottom and top\n",
    "b += 0.5 # Add 0.5 to the bottom\n",
    "t -= 0.5 # Subtract 0.5 from the top\n",
    "plt.ylim(b, t) # update the ylim(bottom, top) values\n",
    "plt.show()"
   ]
  },
  {
   "cell_type": "code",
   "execution_count": 103,
   "metadata": {},
   "outputs": [
    {
     "name": "stdout",
     "output_type": "stream",
     "text": [
      "[[129   0   4]\n",
      " [  5 125  16]\n",
      " [  4   2 473]]\n",
      "              precision    recall  f1-score   support\n",
      "\n",
      "    Negative       0.93      0.97      0.95       133\n",
      "     Neutral       0.98      0.86      0.92       146\n",
      "    Positive       0.96      0.99      0.97       479\n",
      "\n",
      "    accuracy                           0.96       758\n",
      "   macro avg       0.96      0.94      0.95       758\n",
      "weighted avg       0.96      0.96      0.96       758\n",
      "\n",
      "MCC-Score: 0.9230807364137045\n"
     ]
    },
    {
     "data": {
      "image/png": "[encoded data removed]",
      "text/plain": [
       "<Figure size 720x720 with 2 Axes>"
      ]
     },
     "metadata": {
      "needs_background": "light"
     },
     "output_type": "display_data"
    }
   ],
   "source": [
    "# Salary/Benefits #\n",
    "SB = testData[testData[\"pred_topic\"]==\"Benefits/Renumeration\"]\n",
    "SB_cm = confusion_matrix(SB['rating_class'], SB['predict'], labels=['Negative', 'Neutral', 'Positive'])\n",
    "print(confusion_matrix(SB['rating_class'], SB['predict']))\n",
    "print(classification_report(SB['rating_class'], SB['predict']))\n",
    "print(\"MCC-Score:\", matthews_corrcoef(SB['rating_class'], SB['predict']))\n",
    "# fix for mpl bug that cuts off top/bottom of seaborn viz\n",
    "plt.figure(figsize=(10,10))\n",
    "sns.heatmap(SB_cm, annot=True)\n",
    "plt.ylabel('True label')\n",
    "plt.xlabel('Predicted label')\n",
    "plt.title('Benefits/Renumeration')\n",
    "b, t = plt.ylim() # discover the values for bottom and top\n",
    "b += 0.5 # Add 0.5 to the bottom\n",
    "t -= 0.5 # Subtract 0.5 from the top\n",
    "plt.ylim(b, t) # update the ylim(bottom, top) values\n",
    "plt.show()"
   ]
  },
  {
   "cell_type": "code",
   "execution_count": 105,
   "metadata": {},
   "outputs": [
    {
     "name": "stdout",
     "output_type": "stream",
     "text": [
      "[[152   1   3]\n",
      " [  3  40   6]\n",
      " [  1   3 414]]\n",
      "              precision    recall  f1-score   support\n",
      "\n",
      "    Negative       0.97      0.97      0.97       156\n",
      "     Neutral       0.91      0.82      0.86        49\n",
      "    Positive       0.98      0.99      0.98       418\n",
      "\n",
      "    accuracy                           0.97       623\n",
      "   macro avg       0.95      0.93      0.94       623\n",
      "weighted avg       0.97      0.97      0.97       623\n",
      "\n",
      "MCC-Score: 0.9428723315831232\n"
     ]
    },
    {
     "data": {
      "image/png": "[encoded data removed]",
      "text/plain": [
       "<Figure size 720x720 with 2 Axes>"
      ]
     },
     "metadata": {
      "needs_background": "light"
     },
     "output_type": "display_data"
    }
   ],
   "source": [
    "# Culture/Team #\n",
    "CT = testData[testData[\"pred_topic\"]==\"Culture/Team\"]\n",
    "CT_cm = confusion_matrix(CT['rating_class'], CT['predict'], labels=['Negative', 'Neutral', 'Positive'])\n",
    "print(confusion_matrix(CT['rating_class'], CT['predict']))\n",
    "print(classification_report(CT['rating_class'], CT['predict']))\n",
    "print(\"MCC-Score:\", matthews_corrcoef(CT['rating_class'], CT['predict']))\n",
    "# fix for mpl bug that cuts off top/bottom of seaborn viz\n",
    "plt.figure(figsize=(10,10))\n",
    "sns.heatmap(CT_cm, annot=True)\n",
    "plt.ylabel('True label')\n",
    "plt.xlabel('Predicted label')\n",
    "plt.title('Culture/Team')\n",
    "b, t = plt.ylim() # discover the values for bottom and top\n",
    "b += 0.5 # Add 0.5 to the bottom\n",
    "t -= 0.5 # Subtract 0.5 from the top\n",
    "plt.ylim(b, t) # update the ylim(bottom, top) values\n",
    "plt.show()"
   ]
  }
 ],
 "metadata": {
  "kernelspec": {
   "display_name": "Python 3",
   "language": "python",
   "name": "python3"
  },
  "language_info": {
   "codemirror_mode": {
    "name": "ipython",
    "version": 3
   },
   "file_extension": ".py",
   "mimetype": "text/x-python",
   "name": "python",
   "nbconvert_exporter": "python",
   "pygments_lexer": "ipython3",
   "version": "3.7.3"
  }
 },
 "nbformat": 4,
 "nbformat_minor": 4
}
